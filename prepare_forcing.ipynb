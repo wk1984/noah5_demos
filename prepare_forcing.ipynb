{
 "cells": [
  {
   "cell_type": "code",
   "execution_count": null,
   "id": "productive-motivation",
   "metadata": {},
   "outputs": [],
   "source": [
    "import sys, os, h5py\n",
    "import numpy as np\n",
    "import matplotlib.pyplot as plt\n",
    "import xarray as xr\n",
    "import pandas as pd\n",
    "import matplotlib.dates as mdates\n",
    "import scipy.signal\n",
    "import seaborn as sns\n",
    "\n",
    "%config InlineBackend.figure_format = 'retina'\n",
    "\n",
    "sns.set(style = 'ticks', font_scale=1.25)"
   ]
  },
  {
   "cell_type": "code",
   "execution_count": null,
   "id": "d98b0f09",
   "metadata": {},
   "outputs": [],
   "source": [
    "Sitename = 'Ebo'\n",
    "\n",
    "proj_root_path='.'\n",
    "\n",
    "freq  = '2D'\n",
    "first = '06-16' #'05-18'\n",
    "\n",
    "extreme_rain = [25, 25, 25, 25] # unit: mm\n",
    "extreme_rain = [30, 30, 30, 30] # unit: mm\n",
    "extreme_rain = np.asarray(extreme_rain)"
   ]
  },
  {
   "cell_type": "code",
   "execution_count": null,
   "id": "35099b93",
   "metadata": {},
   "outputs": [],
   "source": [
    "#==================\n",
    "\n",
    "dump_t365 = np.arange(1,366)\n",
    "\n",
    "tas = -1.5 + 1*14.0 * np.sin(2 * np.pi * (dump_t365 + 260) / 365) + 273.15\n",
    "\n",
    "# spinup_data['air_temperature'] = tas + 273.15\n",
    "\n",
    "# ----\n",
    "\n",
    "rsds = 230 + 80 * np.sin(2 * np.pi * (dump_t365 + 260) / 365)\n",
    "\n",
    "# ----\n",
    "\n",
    "rh = 0.70 + dump_t365 * 0\n",
    "wdsp = 1.10 + dump_t365 * 0\n",
    "\n",
    "# ----\n",
    "\n",
    "n_snow_days = sum(tas <=273.15)\n",
    "n_rain_days = sum(tas >273.15)\n",
    "\n",
    "idx_snw_days = tas * 0.0 #[spinup_data['air_temperature']<273.15]\n",
    "\n",
    "idx_snw_days[tas <=273.15] = 50 /86400 / n_snow_days \n",
    "\n",
    "idx_rain_days = tas * 0.0 #[spinup_data['air_temperature']<273.15]\n",
    "\n",
    "idx_rain_days[tas >273.15] = 60 /86400 / n_rain_days\n",
    "\n",
    "# ----\n",
    "\n",
    "tdew = 243.5*(np.log(rh*100/100)+((17.67*(tas - 273.15))/(243.5+tas - 273.15)))/(17.67-np.log(rh*100/100)-((17.67*(tas-273.15))/(243.5+tas - 273.15)))\n",
    "evap = 10.0 ** (11.40 - 2353.0 / (tdew + 273.15))\n",
    "\n",
    "rlds = 1.08 * (1 - np.exp(-(0.01*evap)**(tas / 2016))) * 5.670676E-8 * tas**4\n",
    "\n",
    "# ----\n",
    "\n",
    "# plt.plot(dump_t365, tas - 273.15)\n",
    "plt.plot(dump_t365, idx_snw_days)\n",
    "plt.plot(dump_t365, idx_rain_days)\n",
    "\n",
    "print(idx_rain_days.sum()*86400, idx_snw_days.sum()*86400)"
   ]
  },
  {
   "cell_type": "code",
   "execution_count": null,
   "id": "30dd9339",
   "metadata": {},
   "outputs": [],
   "source": [
    "df = pd.DataFrame(index = pd.date_range('1991-01-01', '1991-12-31'), columns = ['TAS','RSDS','RH','WSPD','SNOW','RAIN','PREC'])\n",
    "\n",
    "df['TAS'] = tas.copy()\n",
    "df['RSDS'] = rsds.copy()\n",
    "df['RLDS'] = rlds.copy()\n",
    "df['RH'] = 70\n",
    "df['WSPD'] = 1.05\n",
    "df['PRES'] = 64800\n",
    "df['SNOW'] = idx_snw_days.copy() / 1000\n",
    "df['RAIN'] = idx_rain_days.copy() / 1000\n",
    "df['PREC'] = idx_snw_days/ 1000 + idx_rain_days/ 1000\n",
    "\n",
    "df"
   ]
  },
  {
   "cell_type": "code",
   "execution_count": null,
   "id": "5fe838a5",
   "metadata": {},
   "outputs": [],
   "source": [
    "era5_df_forz = df.copy()\n",
    "\n",
    "fid = open('test.dat','wt')\n",
    "\n",
    "fid.write('-'*130+'\\n')\n",
    "\n",
    "fid.write('{:^17s}|{:^12s}|{:^12s}|{:^10s}|{:^10s}|{:^11s}|{:^11s}|{:^15s}\\n'.format('date/time','windspeed','temperature','humidity','pressure','shortwave','longwave','precipitation'))\n",
    "\n",
    "fid.write('{:^17s}|{:^12s}|{:^12s}|{:^10s}|{:^10s}|{:^11s}|{:^11s}|{:^15s}\\n'.format('yyyy mm dd hh mi','m s{-1}','K',' %','Pa','W m{-2}','W m{-2}','mm d{-1}'))\n",
    "\n",
    "fid.write('-'*130+'\\n')\n",
    "\n",
    "for i, date0 in enumerate(era5_df_forz.index):\n",
    "    \n",
    "    print(i, date0.year)\n",
    "    \n",
    "    fid.write('{:4d} {:02d} {:02d} {:02d} {:02d}  {:^12.3f} {:^12.3f} {:^10.3f} {:^10.1f} {:^11.3f} {:^11.3f} {:^15.3f}\\n'.format(date0.year, date0.month, date0.day, date0.hour, date0.minute, \n",
    "                                                                     era5_df_forz['WSPD'][i], \n",
    "                                                                     era5_df_forz['TAS'][i],\n",
    "                                                                     era5_df_forz['RH'][i],\n",
    "                                                                     era5_df_forz['PRES'][i],\n",
    "                                                                     era5_df_forz['RSDS'][i],\n",
    "                                                                     era5_df_forz['RLDS'][i],\n",
    "                                                                     era5_df_forz['PREC'][i] * 86400\n",
    "                                                                     ))\n",
    "\n",
    "fid.close()"
   ]
  }
 ],
 "metadata": {
  "kernelspec": {
   "display_name": "base",
   "language": "python",
   "name": "python3"
  },
  "language_info": {
   "codemirror_mode": {
    "name": "ipython",
    "version": 3
   },
   "file_extension": ".py",
   "mimetype": "text/x-python",
   "name": "python",
   "nbconvert_exporter": "python",
   "pygments_lexer": "ipython3",
   "version": "3.10.12"
  },
  "toc": {
   "base_numbering": 1,
   "nav_menu": {},
   "number_sections": true,
   "sideBar": true,
   "skip_h1_title": false,
   "title_cell": "Table of Contents",
   "title_sidebar": "Contents",
   "toc_cell": false,
   "toc_position": {
    "height": "calc(100% - 180px)",
    "left": "10px",
    "top": "150px",
    "width": "185px"
   },
   "toc_section_display": true,
   "toc_window_display": true
  },
  "vscode": {
   "interpreter": {
    "hash": "bbf25602a3d8795db9f3a468a9130adfcace0885c5d3e34b41391447488e8ce4"
   }
  }
 },
 "nbformat": 4,
 "nbformat_minor": 5
}
